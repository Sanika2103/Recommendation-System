{
 "cells": [
  {
   "cell_type": "code",
   "execution_count": 32,
   "id": "02b02af9",
   "metadata": {},
   "outputs": [],
   "source": [
    "import numpy as np   # linear algebra\n",
    "import pandas as pd  # data processing, CSV file I/O (e.g. pd.read_csv)\n",
    "import matplotlib.pyplot as plt   #graph plotting library\n",
    "import sys\n",
    "import pickle   #serializing and de-serializing python objects\n",
    "import os       #creating and removing a directory\n",
    "for dirname, _, filenames in os.walk('/kaggle/input'):\n",
    "    for filename in filenames:\n",
    "        print(os.path.join(dirname, filename))"
   ]
  },
  {
   "cell_type": "markdown",
   "id": "d4923200",
   "metadata": {},
   "source": [
    "Input datasets"
   ]
  },
  {
   "cell_type": "code",
   "execution_count": 33,
   "id": "411cd300",
   "metadata": {},
   "outputs": [],
   "source": [
    "movies = pd.read_csv('movies.csv')\n",
    "credits = pd.read_csv('credits.csv') "
   ]
  },
  {
   "cell_type": "code",
   "execution_count": 34,
   "id": "3b37a4d4",
   "metadata": {},
   "outputs": [
    {
     "data": {
      "text/plain": [
       "(4803, 20)"
      ]
     },
     "execution_count": 34,
     "metadata": {},
     "output_type": "execute_result"
    }
   ],
   "source": [
    "movies.shape"
   ]
  },
  {
   "cell_type": "code",
   "execution_count": 35,
   "id": "04b1d7c7",
   "metadata": {},
   "outputs": [
    {
     "data": {
      "text/html": [
       "<div>\n",
       "<style scoped>\n",
       "    .dataframe tbody tr th:only-of-type {\n",
       "        vertical-align: middle;\n",
       "    }\n",
       "\n",
       "    .dataframe tbody tr th {\n",
       "        vertical-align: top;\n",
       "    }\n",
       "\n",
       "    .dataframe thead th {\n",
       "        text-align: right;\n",
       "    }\n",
       "</style>\n",
       "<table border=\"1\" class=\"dataframe\">\n",
       "  <thead>\n",
       "    <tr style=\"text-align: right;\">\n",
       "      <th></th>\n",
       "      <th>budget</th>\n",
       "      <th>genres</th>\n",
       "      <th>homepage</th>\n",
       "      <th>id</th>\n",
       "      <th>keywords</th>\n",
       "      <th>original_language</th>\n",
       "      <th>original_title</th>\n",
       "      <th>overview</th>\n",
       "      <th>popularity</th>\n",
       "      <th>production_companies</th>\n",
       "      <th>production_countries</th>\n",
       "      <th>release_date</th>\n",
       "      <th>revenue</th>\n",
       "      <th>runtime</th>\n",
       "      <th>spoken_languages</th>\n",
       "      <th>status</th>\n",
       "      <th>tagline</th>\n",
       "      <th>title</th>\n",
       "      <th>vote_average</th>\n",
       "      <th>vote_count</th>\n",
       "    </tr>\n",
       "  </thead>\n",
       "  <tbody>\n",
       "    <tr>\n",
       "      <th>0</th>\n",
       "      <td>237000000</td>\n",
       "      <td>[{\"id\": 28, \"name\": \"Action\"}, {\"id\": 12, \"nam...</td>\n",
       "      <td>http://www.avatarmovie.com/</td>\n",
       "      <td>19995</td>\n",
       "      <td>[{\"id\": 1463, \"name\": \"culture clash\"}, {\"id\":...</td>\n",
       "      <td>en</td>\n",
       "      <td>Avatar</td>\n",
       "      <td>In the 22nd century, a paraplegic Marine is di...</td>\n",
       "      <td>150.437577</td>\n",
       "      <td>[{\"name\": \"Ingenious Film Partners\", \"id\": 289...</td>\n",
       "      <td>[{\"iso_3166_1\": \"US\", \"name\": \"United States o...</td>\n",
       "      <td>2009-12-10</td>\n",
       "      <td>2787965087</td>\n",
       "      <td>162.0</td>\n",
       "      <td>[{\"iso_639_1\": \"en\", \"name\": \"English\"}, {\"iso...</td>\n",
       "      <td>Released</td>\n",
       "      <td>Enter the World of Pandora.</td>\n",
       "      <td>Avatar</td>\n",
       "      <td>7.2</td>\n",
       "      <td>11800</td>\n",
       "    </tr>\n",
       "    <tr>\n",
       "      <th>1</th>\n",
       "      <td>300000000</td>\n",
       "      <td>[{\"id\": 12, \"name\": \"Adventure\"}, {\"id\": 14, \"...</td>\n",
       "      <td>http://disney.go.com/disneypictures/pirates/</td>\n",
       "      <td>285</td>\n",
       "      <td>[{\"id\": 270, \"name\": \"ocean\"}, {\"id\": 726, \"na...</td>\n",
       "      <td>en</td>\n",
       "      <td>Pirates of the Caribbean: At World's End</td>\n",
       "      <td>Captain Barbossa, long believed to be dead, ha...</td>\n",
       "      <td>139.082615</td>\n",
       "      <td>[{\"name\": \"Walt Disney Pictures\", \"id\": 2}, {\"...</td>\n",
       "      <td>[{\"iso_3166_1\": \"US\", \"name\": \"United States o...</td>\n",
       "      <td>2007-05-19</td>\n",
       "      <td>961000000</td>\n",
       "      <td>169.0</td>\n",
       "      <td>[{\"iso_639_1\": \"en\", \"name\": \"English\"}]</td>\n",
       "      <td>Released</td>\n",
       "      <td>At the end of the world, the adventure begins.</td>\n",
       "      <td>Pirates of the Caribbean: At World's End</td>\n",
       "      <td>6.9</td>\n",
       "      <td>4500</td>\n",
       "    </tr>\n",
       "    <tr>\n",
       "      <th>2</th>\n",
       "      <td>245000000</td>\n",
       "      <td>[{\"id\": 28, \"name\": \"Action\"}, {\"id\": 12, \"nam...</td>\n",
       "      <td>http://www.sonypictures.com/movies/spectre/</td>\n",
       "      <td>206647</td>\n",
       "      <td>[{\"id\": 470, \"name\": \"spy\"}, {\"id\": 818, \"name...</td>\n",
       "      <td>en</td>\n",
       "      <td>Spectre</td>\n",
       "      <td>A cryptic message from Bond’s past sends him o...</td>\n",
       "      <td>107.376788</td>\n",
       "      <td>[{\"name\": \"Columbia Pictures\", \"id\": 5}, {\"nam...</td>\n",
       "      <td>[{\"iso_3166_1\": \"GB\", \"name\": \"United Kingdom\"...</td>\n",
       "      <td>2015-10-26</td>\n",
       "      <td>880674609</td>\n",
       "      <td>148.0</td>\n",
       "      <td>[{\"iso_639_1\": \"fr\", \"name\": \"Fran\\u00e7ais\"},...</td>\n",
       "      <td>Released</td>\n",
       "      <td>A Plan No One Escapes</td>\n",
       "      <td>Spectre</td>\n",
       "      <td>6.3</td>\n",
       "      <td>4466</td>\n",
       "    </tr>\n",
       "    <tr>\n",
       "      <th>3</th>\n",
       "      <td>250000000</td>\n",
       "      <td>[{\"id\": 28, \"name\": \"Action\"}, {\"id\": 80, \"nam...</td>\n",
       "      <td>http://www.thedarkknightrises.com/</td>\n",
       "      <td>49026</td>\n",
       "      <td>[{\"id\": 849, \"name\": \"dc comics\"}, {\"id\": 853,...</td>\n",
       "      <td>en</td>\n",
       "      <td>The Dark Knight Rises</td>\n",
       "      <td>Following the death of District Attorney Harve...</td>\n",
       "      <td>112.312950</td>\n",
       "      <td>[{\"name\": \"Legendary Pictures\", \"id\": 923}, {\"...</td>\n",
       "      <td>[{\"iso_3166_1\": \"US\", \"name\": \"United States o...</td>\n",
       "      <td>2012-07-16</td>\n",
       "      <td>1084939099</td>\n",
       "      <td>165.0</td>\n",
       "      <td>[{\"iso_639_1\": \"en\", \"name\": \"English\"}]</td>\n",
       "      <td>Released</td>\n",
       "      <td>The Legend Ends</td>\n",
       "      <td>The Dark Knight Rises</td>\n",
       "      <td>7.6</td>\n",
       "      <td>9106</td>\n",
       "    </tr>\n",
       "    <tr>\n",
       "      <th>4</th>\n",
       "      <td>260000000</td>\n",
       "      <td>[{\"id\": 28, \"name\": \"Action\"}, {\"id\": 12, \"nam...</td>\n",
       "      <td>http://movies.disney.com/john-carter</td>\n",
       "      <td>49529</td>\n",
       "      <td>[{\"id\": 818, \"name\": \"based on novel\"}, {\"id\":...</td>\n",
       "      <td>en</td>\n",
       "      <td>John Carter</td>\n",
       "      <td>John Carter is a war-weary, former military ca...</td>\n",
       "      <td>43.926995</td>\n",
       "      <td>[{\"name\": \"Walt Disney Pictures\", \"id\": 2}]</td>\n",
       "      <td>[{\"iso_3166_1\": \"US\", \"name\": \"United States o...</td>\n",
       "      <td>2012-03-07</td>\n",
       "      <td>284139100</td>\n",
       "      <td>132.0</td>\n",
       "      <td>[{\"iso_639_1\": \"en\", \"name\": \"English\"}]</td>\n",
       "      <td>Released</td>\n",
       "      <td>Lost in our world, found in another.</td>\n",
       "      <td>John Carter</td>\n",
       "      <td>6.1</td>\n",
       "      <td>2124</td>\n",
       "    </tr>\n",
       "  </tbody>\n",
       "</table>\n",
       "</div>"
      ],
      "text/plain": [
       "      budget                                             genres  \\\n",
       "0  237000000  [{\"id\": 28, \"name\": \"Action\"}, {\"id\": 12, \"nam...   \n",
       "1  300000000  [{\"id\": 12, \"name\": \"Adventure\"}, {\"id\": 14, \"...   \n",
       "2  245000000  [{\"id\": 28, \"name\": \"Action\"}, {\"id\": 12, \"nam...   \n",
       "3  250000000  [{\"id\": 28, \"name\": \"Action\"}, {\"id\": 80, \"nam...   \n",
       "4  260000000  [{\"id\": 28, \"name\": \"Action\"}, {\"id\": 12, \"nam...   \n",
       "\n",
       "                                       homepage      id  \\\n",
       "0                   http://www.avatarmovie.com/   19995   \n",
       "1  http://disney.go.com/disneypictures/pirates/     285   \n",
       "2   http://www.sonypictures.com/movies/spectre/  206647   \n",
       "3            http://www.thedarkknightrises.com/   49026   \n",
       "4          http://movies.disney.com/john-carter   49529   \n",
       "\n",
       "                                            keywords original_language  \\\n",
       "0  [{\"id\": 1463, \"name\": \"culture clash\"}, {\"id\":...                en   \n",
       "1  [{\"id\": 270, \"name\": \"ocean\"}, {\"id\": 726, \"na...                en   \n",
       "2  [{\"id\": 470, \"name\": \"spy\"}, {\"id\": 818, \"name...                en   \n",
       "3  [{\"id\": 849, \"name\": \"dc comics\"}, {\"id\": 853,...                en   \n",
       "4  [{\"id\": 818, \"name\": \"based on novel\"}, {\"id\":...                en   \n",
       "\n",
       "                             original_title  \\\n",
       "0                                    Avatar   \n",
       "1  Pirates of the Caribbean: At World's End   \n",
       "2                                   Spectre   \n",
       "3                     The Dark Knight Rises   \n",
       "4                               John Carter   \n",
       "\n",
       "                                            overview  popularity  \\\n",
       "0  In the 22nd century, a paraplegic Marine is di...  150.437577   \n",
       "1  Captain Barbossa, long believed to be dead, ha...  139.082615   \n",
       "2  A cryptic message from Bond’s past sends him o...  107.376788   \n",
       "3  Following the death of District Attorney Harve...  112.312950   \n",
       "4  John Carter is a war-weary, former military ca...   43.926995   \n",
       "\n",
       "                                production_companies  \\\n",
       "0  [{\"name\": \"Ingenious Film Partners\", \"id\": 289...   \n",
       "1  [{\"name\": \"Walt Disney Pictures\", \"id\": 2}, {\"...   \n",
       "2  [{\"name\": \"Columbia Pictures\", \"id\": 5}, {\"nam...   \n",
       "3  [{\"name\": \"Legendary Pictures\", \"id\": 923}, {\"...   \n",
       "4        [{\"name\": \"Walt Disney Pictures\", \"id\": 2}]   \n",
       "\n",
       "                                production_countries release_date     revenue  \\\n",
       "0  [{\"iso_3166_1\": \"US\", \"name\": \"United States o...   2009-12-10  2787965087   \n",
       "1  [{\"iso_3166_1\": \"US\", \"name\": \"United States o...   2007-05-19   961000000   \n",
       "2  [{\"iso_3166_1\": \"GB\", \"name\": \"United Kingdom\"...   2015-10-26   880674609   \n",
       "3  [{\"iso_3166_1\": \"US\", \"name\": \"United States o...   2012-07-16  1084939099   \n",
       "4  [{\"iso_3166_1\": \"US\", \"name\": \"United States o...   2012-03-07   284139100   \n",
       "\n",
       "   runtime                                   spoken_languages    status  \\\n",
       "0    162.0  [{\"iso_639_1\": \"en\", \"name\": \"English\"}, {\"iso...  Released   \n",
       "1    169.0           [{\"iso_639_1\": \"en\", \"name\": \"English\"}]  Released   \n",
       "2    148.0  [{\"iso_639_1\": \"fr\", \"name\": \"Fran\\u00e7ais\"},...  Released   \n",
       "3    165.0           [{\"iso_639_1\": \"en\", \"name\": \"English\"}]  Released   \n",
       "4    132.0           [{\"iso_639_1\": \"en\", \"name\": \"English\"}]  Released   \n",
       "\n",
       "                                          tagline  \\\n",
       "0                     Enter the World of Pandora.   \n",
       "1  At the end of the world, the adventure begins.   \n",
       "2                           A Plan No One Escapes   \n",
       "3                                 The Legend Ends   \n",
       "4            Lost in our world, found in another.   \n",
       "\n",
       "                                      title  vote_average  vote_count  \n",
       "0                                    Avatar           7.2       11800  \n",
       "1  Pirates of the Caribbean: At World's End           6.9        4500  \n",
       "2                                   Spectre           6.3        4466  \n",
       "3                     The Dark Knight Rises           7.6        9106  \n",
       "4                               John Carter           6.1        2124  "
      ]
     },
     "execution_count": 35,
     "metadata": {},
     "output_type": "execute_result"
    }
   ],
   "source": [
    "movies.head()"
   ]
  },
  {
   "cell_type": "code",
   "execution_count": 36,
   "id": "d900ddf9",
   "metadata": {},
   "outputs": [
    {
     "data": {
      "text/html": [
       "<div>\n",
       "<style scoped>\n",
       "    .dataframe tbody tr th:only-of-type {\n",
       "        vertical-align: middle;\n",
       "    }\n",
       "\n",
       "    .dataframe tbody tr th {\n",
       "        vertical-align: top;\n",
       "    }\n",
       "\n",
       "    .dataframe thead th {\n",
       "        text-align: right;\n",
       "    }\n",
       "</style>\n",
       "<table border=\"1\" class=\"dataframe\">\n",
       "  <thead>\n",
       "    <tr style=\"text-align: right;\">\n",
       "      <th></th>\n",
       "      <th>movie_id</th>\n",
       "      <th>title</th>\n",
       "      <th>cast</th>\n",
       "      <th>crew</th>\n",
       "    </tr>\n",
       "  </thead>\n",
       "  <tbody>\n",
       "    <tr>\n",
       "      <th>0</th>\n",
       "      <td>19995</td>\n",
       "      <td>Avatar</td>\n",
       "      <td>[{\"cast_id\": 242, \"character\": \"Jake Sully\", \"...</td>\n",
       "      <td>[{\"credit_id\": \"52fe48009251416c750aca23\", \"de...</td>\n",
       "    </tr>\n",
       "  </tbody>\n",
       "</table>\n",
       "</div>"
      ],
      "text/plain": [
       "   movie_id   title                                               cast  \\\n",
       "0     19995  Avatar  [{\"cast_id\": 242, \"character\": \"Jake Sully\", \"...   \n",
       "\n",
       "                                                crew  \n",
       "0  [{\"credit_id\": \"52fe48009251416c750aca23\", \"de...  "
      ]
     },
     "execution_count": 36,
     "metadata": {},
     "output_type": "execute_result"
    }
   ],
   "source": [
    "credits.head(1)"
   ]
  },
  {
   "cell_type": "markdown",
   "id": "42dae94f",
   "metadata": {},
   "source": [
    "New Dataset named final by merging movies and credits datasets"
   ]
  },
  {
   "cell_type": "code",
   "execution_count": 37,
   "id": "076aea53",
   "metadata": {},
   "outputs": [],
   "source": [
    "final = pd.merge(movies,credits,on='title')"
   ]
  },
  {
   "cell_type": "code",
   "execution_count": 38,
   "id": "d8cecb73",
   "metadata": {},
   "outputs": [],
   "source": [
    "final = final[['movie_id','title','overview','genres','keywords','cast','crew']]"
   ]
  },
  {
   "cell_type": "code",
   "execution_count": 39,
   "id": "30e2dd4d",
   "metadata": {},
   "outputs": [
    {
     "data": {
      "text/plain": [
       "movie_id    0\n",
       "title       0\n",
       "overview    3\n",
       "genres      0\n",
       "keywords    0\n",
       "cast        0\n",
       "crew        0\n",
       "dtype: int64"
      ]
     },
     "execution_count": 39,
     "metadata": {},
     "output_type": "execute_result"
    }
   ],
   "source": [
    "final.isnull().sum()"
   ]
  },
  {
   "cell_type": "markdown",
   "id": "6db470e6",
   "metadata": {},
   "source": [
    "Deleting null values"
   ]
  },
  {
   "cell_type": "code",
   "execution_count": 40,
   "id": "db4cdaaa",
   "metadata": {},
   "outputs": [],
   "source": [
    "final.dropna(inplace=True)"
   ]
  },
  {
   "cell_type": "code",
   "execution_count": 41,
   "id": "1b841051",
   "metadata": {},
   "outputs": [
    {
     "data": {
      "text/plain": [
       "0"
      ]
     },
     "execution_count": 41,
     "metadata": {},
     "output_type": "execute_result"
    }
   ],
   "source": [
    "final.duplicated().sum()"
   ]
  },
  {
   "cell_type": "markdown",
   "id": "f7ac66d0",
   "metadata": {},
   "source": [
    "Importing abstract syntax tree to process trees of the Python abstract syntax grammar"
   ]
  },
  {
   "cell_type": "code",
   "execution_count": 42,
   "id": "f1c9aa07",
   "metadata": {},
   "outputs": [],
   "source": [
    "import ast"
   ]
  },
  {
   "cell_type": "code",
   "execution_count": 43,
   "id": "bb5dd2c0",
   "metadata": {},
   "outputs": [],
   "source": [
    "def convert(text):\n",
    "    L = []\n",
    "    for i in ast.literal_eval(text):\n",
    "        L.append(i['name']) \n",
    "    return L "
   ]
  },
  {
   "cell_type": "code",
   "execution_count": 44,
   "id": "304fd253",
   "metadata": {},
   "outputs": [],
   "source": [
    "final['genres'] = final['genres'].apply(convert)"
   ]
  },
  {
   "cell_type": "code",
   "execution_count": 45,
   "id": "7297b2ea",
   "metadata": {},
   "outputs": [],
   "source": [
    "final['keywords'] = final['keywords'].apply(convert)"
   ]
  },
  {
   "cell_type": "code",
   "execution_count": 46,
   "id": "50048aee",
   "metadata": {},
   "outputs": [
    {
     "data": {
      "text/plain": [
       "[{'id': 28, 'name': 'Action'},\n",
       " {'id': 12, 'name': 'Adventure'},\n",
       " {'id': 14, 'name': 'Fantasy'},\n",
       " {'id': 878, 'name': 'Science Fiction'}]"
      ]
     },
     "execution_count": 46,
     "metadata": {},
     "output_type": "execute_result"
    }
   ],
   "source": [
    "import ast\n",
    "ast.literal_eval('[{\"id\": 28, \"name\": \"Action\"}, {\"id\": 12, \"name\": \"Adventure\"}, {\"id\": 14, \"name\": \"Fantasy\"}, {\"id\": 878, \"name\": \"Science Fiction\"}]')\n"
   ]
  },
  {
   "cell_type": "markdown",
   "id": "fe417d0c",
   "metadata": {},
   "source": [
    "Function to take only first three main cast of a movie"
   ]
  },
  {
   "cell_type": "code",
   "execution_count": 47,
   "id": "42aec8b8",
   "metadata": {},
   "outputs": [],
   "source": [
    "def convertcast(text):\n",
    "    L = []\n",
    "    counter = 0\n",
    "    for i in ast.literal_eval(text):\n",
    "        if counter < 3:\n",
    "            L.append(i['name'])\n",
    "        counter+=1\n",
    "    return L \n"
   ]
  },
  {
   "cell_type": "code",
   "execution_count": 48,
   "id": "58fb1ee8",
   "metadata": {},
   "outputs": [],
   "source": [
    "final['cast'] = final['cast'].apply(convertcast)"
   ]
  },
  {
   "cell_type": "markdown",
   "id": "23d9b6f6",
   "metadata": {},
   "source": [
    "Extracting director's name from crew column"
   ]
  },
  {
   "cell_type": "code",
   "execution_count": 49,
   "id": "1a3822de",
   "metadata": {},
   "outputs": [],
   "source": [
    "def fetch(text):\n",
    "    L = []\n",
    "    for i in ast.literal_eval(text):\n",
    "        if i['job'] == 'Director':\n",
    "            L.append(i['name'])\n",
    "    return L "
   ]
  },
  {
   "cell_type": "code",
   "execution_count": 50,
   "id": "8ef6d8ca",
   "metadata": {},
   "outputs": [],
   "source": [
    "final['crew'] = final['crew'].apply(fetch)"
   ]
  },
  {
   "cell_type": "code",
   "execution_count": 51,
   "id": "37b5e0aa",
   "metadata": {},
   "outputs": [],
   "source": [
    "final['overview'] = final['overview'].apply(lambda x:x.split())"
   ]
  },
  {
   "cell_type": "markdown",
   "id": "d6686e44",
   "metadata": {},
   "source": [
    "This code removes space."
   ]
  },
  {
   "cell_type": "code",
   "execution_count": 52,
   "id": "52a07ffb",
   "metadata": {},
   "outputs": [],
   "source": [
    "def space(L):\n",
    "    L1 = []\n",
    "    for i in L:\n",
    "        L1.append(i.replace(\" \",\"\"))\n",
    "    return L1"
   ]
  },
  {
   "cell_type": "code",
   "execution_count": 53,
   "id": "60d5b1c3",
   "metadata": {},
   "outputs": [],
   "source": [
    "final['cast'] = final['cast'].apply(space)\n",
    "final['crew'] = final['crew'].apply(space)\n",
    "final['genres'] = final['genres'].apply(space)\n",
    "final['keywords'] = final['keywords'].apply(space)"
   ]
  },
  {
   "cell_type": "markdown",
   "id": "9db2508b",
   "metadata": {},
   "source": [
    "connect all into single column as tags"
   ]
  },
  {
   "cell_type": "code",
   "execution_count": 54,
   "id": "4d825b33",
   "metadata": {},
   "outputs": [],
   "source": [
    "final['tags'] = final['overview'] + final['genres'] + final['keywords'] + final['cast'] + final['crew']"
   ]
  },
  {
   "cell_type": "markdown",
   "id": "c7732a43",
   "metadata": {},
   "source": [
    "New dataset by droping unused columns from final dataset"
   ]
  },
  {
   "cell_type": "code",
   "execution_count": 55,
   "id": "4e7e2382",
   "metadata": {},
   "outputs": [],
   "source": [
    "new_db = final.drop(columns=['overview','genres','keywords','cast','crew'])"
   ]
  },
  {
   "cell_type": "markdown",
   "id": "bcaba4f6",
   "metadata": {},
   "source": [
    "converting list into string"
   ]
  },
  {
   "cell_type": "code",
   "execution_count": 56,
   "id": "71a0e0a2",
   "metadata": {},
   "outputs": [
    {
     "data": {
      "text/html": [
       "<div>\n",
       "<style scoped>\n",
       "    .dataframe tbody tr th:only-of-type {\n",
       "        vertical-align: middle;\n",
       "    }\n",
       "\n",
       "    .dataframe tbody tr th {\n",
       "        vertical-align: top;\n",
       "    }\n",
       "\n",
       "    .dataframe thead th {\n",
       "        text-align: right;\n",
       "    }\n",
       "</style>\n",
       "<table border=\"1\" class=\"dataframe\">\n",
       "  <thead>\n",
       "    <tr style=\"text-align: right;\">\n",
       "      <th></th>\n",
       "      <th>movie_id</th>\n",
       "      <th>title</th>\n",
       "      <th>tags</th>\n",
       "    </tr>\n",
       "  </thead>\n",
       "  <tbody>\n",
       "    <tr>\n",
       "      <th>0</th>\n",
       "      <td>19995</td>\n",
       "      <td>Avatar</td>\n",
       "      <td>In the 22nd century, a paraplegic Marine is di...</td>\n",
       "    </tr>\n",
       "    <tr>\n",
       "      <th>1</th>\n",
       "      <td>285</td>\n",
       "      <td>Pirates of the Caribbean: At World's End</td>\n",
       "      <td>Captain Barbossa, long believed to be dead, ha...</td>\n",
       "    </tr>\n",
       "    <tr>\n",
       "      <th>2</th>\n",
       "      <td>206647</td>\n",
       "      <td>Spectre</td>\n",
       "      <td>A cryptic message from Bond’s past sends him o...</td>\n",
       "    </tr>\n",
       "    <tr>\n",
       "      <th>3</th>\n",
       "      <td>49026</td>\n",
       "      <td>The Dark Knight Rises</td>\n",
       "      <td>Following the death of District Attorney Harve...</td>\n",
       "    </tr>\n",
       "    <tr>\n",
       "      <th>4</th>\n",
       "      <td>49529</td>\n",
       "      <td>John Carter</td>\n",
       "      <td>John Carter is a war-weary, former military ca...</td>\n",
       "    </tr>\n",
       "  </tbody>\n",
       "</table>\n",
       "</div>"
      ],
      "text/plain": [
       "   movie_id                                     title  \\\n",
       "0     19995                                    Avatar   \n",
       "1       285  Pirates of the Caribbean: At World's End   \n",
       "2    206647                                   Spectre   \n",
       "3     49026                     The Dark Knight Rises   \n",
       "4     49529                               John Carter   \n",
       "\n",
       "                                                tags  \n",
       "0  In the 22nd century, a paraplegic Marine is di...  \n",
       "1  Captain Barbossa, long believed to be dead, ha...  \n",
       "2  A cryptic message from Bond’s past sends him o...  \n",
       "3  Following the death of District Attorney Harve...  \n",
       "4  John Carter is a war-weary, former military ca...  "
      ]
     },
     "execution_count": 56,
     "metadata": {},
     "output_type": "execute_result"
    }
   ],
   "source": [
    "new_db['tags'] = new_db['tags'].apply(lambda x: \" \".join(x))\n",
    "new_db.head()"
   ]
  },
  {
   "cell_type": "code",
   "execution_count": 57,
   "id": "807b92ad",
   "metadata": {},
   "outputs": [],
   "source": [
    "new_db['tags']=new_db['tags'].apply(lambda x:x.lower())"
   ]
  },
  {
   "cell_type": "markdown",
   "id": "62f4d503",
   "metadata": {},
   "source": [
    "Convert a collection of text documents to a matrix of token counts and removing stopwords."
   ]
  },
  {
   "cell_type": "code",
   "execution_count": 58,
   "id": "e5c9e0f0",
   "metadata": {},
   "outputs": [],
   "source": [
    "from sklearn.feature_extraction.text import CountVectorizer\n",
    "cv = CountVectorizer(max_features=5000,stop_words='english')"
   ]
  },
  {
   "cell_type": "markdown",
   "id": "d28f5f26",
   "metadata": {},
   "source": [
    "Converting cv object into a numpy array"
   ]
  },
  {
   "cell_type": "code",
   "execution_count": 60,
   "id": "52681dd6",
   "metadata": {},
   "outputs": [],
   "source": [
    "vector = cv.fit_transform(new_db['tags']).toarray()"
   ]
  },   
  {
   "cell_type": "code",
   "execution_count": 62,
   "id": "07a556fe",
   "metadata": {},
   "outputs": [],
   "source": [
    "import nltk  #NLP Library"
   ]
  },
  {
   "cell_type": "code",
   "execution_count": 63,
   "id": "b343f448",
   "metadata": {},
   "outputs": [],
   "source": [
    "from nltk.stem.porter import PorterStemmer\n",
    "ps = PorterStemmer()    #producing morphological variants of a root/base word"
   ]
  },
  {
   "cell_type": "code",
   "execution_count": 64,
   "id": "6af1c950",
   "metadata": {},
   "outputs": [],
   "source": [
    "def stem(text):\n",
    "   y=[]\n",
    "   for i in text.split(): \n",
    "     y.append(ps.stem(i))\n",
    "   return \" \".join(y)"
   ]
  },
  {
   "cell_type": "code",
   "execution_count": 65,
   "id": "89cb6dee",
   "metadata": {},
   "outputs": [],
   "source": [
    "new_db['tags']=new_db['tags'].apply(stem)"
   ]
  },
  {
   "cell_type": "code",
   "execution_count": 66,
   "id": "488dff9f",
   "metadata": {},
   "outputs": [
    {
     "data": {
      "text/html": [
       "<div>\n",
       "<style scoped>\n",
       "    .dataframe tbody tr th:only-of-type {\n",
       "        vertical-align: middle;\n",
       "    }\n",
       "\n",
       "    .dataframe tbody tr th {\n",
       "        vertical-align: top;\n",
       "    }\n",
       "\n",
       "    .dataframe thead th {\n",
       "        text-align: right;\n",
       "    }\n",
       "</style>\n",
       "<table border=\"1\" class=\"dataframe\">\n",
       "  <thead>\n",
       "    <tr style=\"text-align: right;\">\n",
       "      <th></th>\n",
       "      <th>movie_id</th>\n",
       "      <th>title</th>\n",
       "      <th>tags</th>\n",
       "    </tr>\n",
       "  </thead>\n",
       "  <tbody>\n",
       "    <tr>\n",
       "      <th>0</th>\n",
       "      <td>19995</td>\n",
       "      <td>Avatar</td>\n",
       "      <td>in the 22nd century, a parapleg marin is dispa...</td>\n",
       "    </tr>\n",
       "    <tr>\n",
       "      <th>1</th>\n",
       "      <td>285</td>\n",
       "      <td>Pirates of the Caribbean: At World's End</td>\n",
       "      <td>captain barbossa, long believ to be dead, ha c...</td>\n",
       "    </tr>\n",
       "    <tr>\n",
       "      <th>2</th>\n",
       "      <td>206647</td>\n",
       "      <td>Spectre</td>\n",
       "      <td>a cryptic messag from bond’ past send him on a...</td>\n",
       "    </tr>\n",
       "    <tr>\n",
       "      <th>3</th>\n",
       "      <td>49026</td>\n",
       "      <td>The Dark Knight Rises</td>\n",
       "      <td>follow the death of district attorney harvey d...</td>\n",
       "    </tr>\n",
       "    <tr>\n",
       "      <th>4</th>\n",
       "      <td>49529</td>\n",
       "      <td>John Carter</td>\n",
       "      <td>john carter is a war-weary, former militari ca...</td>\n",
       "    </tr>\n",
       "  </tbody>\n",
       "</table>\n",
       "</div>"
      ],
      "text/plain": [
       "   movie_id                                     title  \\\n",
       "0     19995                                    Avatar   \n",
       "1       285  Pirates of the Caribbean: At World's End   \n",
       "2    206647                                   Spectre   \n",
       "3     49026                     The Dark Knight Rises   \n",
       "4     49529                               John Carter   \n",
       "\n",
       "                                                tags  \n",
       "0  in the 22nd century, a parapleg marin is dispa...  \n",
       "1  captain barbossa, long believ to be dead, ha c...  \n",
       "2  a cryptic messag from bond’ past send him on a...  \n",
       "3  follow the death of district attorney harvey d...  \n",
       "4  john carter is a war-weary, former militari ca...  "
      ]
     },
     "execution_count": 66,
     "metadata": {},
     "output_type": "execute_result"
    }
   ],
   "source": [
    "new_db.head()"
   ]
  },
  {
   "cell_type": "markdown",
   "id": "239c7c3d",
   "metadata": {},
   "source": [
    "measure the similarity between vector lists by calculating the cosine angle between the two vector lists by calculating the distance between them"
   ]
  },
  {
   "cell_type": "code",
   "execution_count": 67,
   "id": "b0601c11",
   "metadata": {},
   "outputs": [],
   "source": [
    "from sklearn.metrics.pairwise import cosine_similarity"
   ]
  },
  {
   "cell_type": "code",
   "execution_count": 68,
   "id": "9d13ca9c",
   "metadata": {},
   "outputs": [],
   "source": [
    "similarity = cosine_similarity(vector)"
   ]
  },
  {
   "cell_type": "code",
   "execution_count": 69,
   "id": "dead59a1",
   "metadata": {},
   "outputs": [
    {
     "data": {
      "text/plain": [
       "array([[1.        , 0.08964215, 0.06071767, ..., 0.02519763, 0.0277885 ,\n",
       "        0.        ],\n",
       "       [0.08964215, 1.        , 0.06350006, ..., 0.02635231, 0.        ,\n",
       "        0.        ],\n",
       "       [0.06071767, 0.06350006, 1.        , ..., 0.02677398, 0.        ,\n",
       "        0.        ],\n",
       "       ...,\n",
       "       [0.02519763, 0.02635231, 0.02677398, ..., 1.        , 0.07352146,\n",
       "        0.04774099],\n",
       "       [0.0277885 , 0.        , 0.        , ..., 0.07352146, 1.        ,\n",
       "        0.05264981],\n",
       "       [0.        , 0.        , 0.        , ..., 0.04774099, 0.05264981,\n",
       "        1.        ]])"
      ]
     },
     "execution_count": 69,
     "metadata": {},
     "output_type": "execute_result"
    }
   ],
   "source": [
    "similarity"
   ]
  },
  {
   "cell_type": "markdown",
   "id": "6aa48bff",
   "metadata": {},
   "source": [
    "Function to recommend a movie based on similarity"
   ]
  },
  {
   "cell_type": "code",
   "execution_count": 70,
   "id": "93ed25a2",
   "metadata": {},
   "outputs": [],
   "source": [
    "def recommend(movie):\n",
    "    index = new_db[new_db['title'] == movie].index[0]\n",
    "    distances = sorted(list(enumerate(similarity[index])),reverse=True,key = lambda x: x[1])\n",
    "    for i in distances[1:6]:\n",
    "        print(new_db.iloc[i[0]].title)\n",
    "        "
   ]
  },
  {
   "cell_type": "code",
   "execution_count": 71,
   "id": "c06e0ecf",
   "metadata": {},
   "outputs": [
    {
     "name": "stdout",
     "output_type": "stream",
     "text": [
      "The Dark Knight\n",
      "The Dark Knight Rises\n",
      "Batman\n",
      "Batman & Robin\n",
      "Batman\n"
     ]
    }
   ],
   "source": [
    "recommend('Batman Begins')"
   ]
  },
  {
   "cell_type": "markdown",
   "id": "2d72f052",
   "metadata": {},
   "source": [
    "Dumping a code into file inorder to render info through it"
   ]
  },
  {
   "cell_type": "code",
   "execution_count": 72,
   "id": "ae062d19",
   "metadata": {},
   "outputs": [],
   "source": [
    "pickle.dump(new_db,open('movies.pkl','wb'))"
   ]
  },
  {
   "cell_type": "code",
   "execution_count": 73,
   "id": "cc6bfa3a",
   "metadata": {},
   "outputs": [],
   "source": [
    "pickle.dump(new_db.to_dict(),open('movie_dict.pkl','wb'))"
   ]
  },
  {
   "cell_type": "code",
   "execution_count": 74,
   "id": "e010102b",
   "metadata": {},
   "outputs": [],
   "source": [
    "pickle.dump(similarity,open('similarity.pkl','wb'))"
   ]
  },
  {
   "cell_type": "code",
   "execution_count": 75,
   "id": "b74ef37f",
   "metadata": {},
   "outputs": [
    {
     "data": {
      "text/plain": [
       "0    [Action, Adventure, Fantasy, ScienceFiction]\n",
       "1                    [Adventure, Fantasy, Action]\n",
       "2                      [Action, Adventure, Crime]\n",
       "3                [Action, Crime, Drama, Thriller]\n",
       "4             [Action, Adventure, ScienceFiction]\n",
       "Name: genres, dtype: object"
      ]
     },
     "execution_count": 75,
     "metadata": {},
     "output_type": "execute_result"
    }
   ],
   "source": [
    "final['genres'].head()"
   ]
  },
  {
   "cell_type": "code",
   "execution_count": 76,
   "id": "40fa8a17",
   "metadata": {},
   "outputs": [
    {
     "data": {
      "text/plain": [
       "0    [{\"id\": 28, \"name\": \"Action\"}, {\"id\": 12, \"nam...\n",
       "1    [{\"id\": 12, \"name\": \"Adventure\"}, {\"id\": 14, \"...\n",
       "2    [{\"id\": 28, \"name\": \"Action\"}, {\"id\": 12, \"nam...\n",
       "3    [{\"id\": 28, \"name\": \"Action\"}, {\"id\": 80, \"nam...\n",
       "4    [{\"id\": 28, \"name\": \"Action\"}, {\"id\": 12, \"nam...\n",
       "Name: genres, dtype: object"
      ]
     },
     "execution_count": 76,
     "metadata": {},
     "output_type": "execute_result"
    }
   ],
   "source": [
    "movies['genres'].head()"
   ]
  },
  {
   "cell_type": "markdown",
   "id": "492070ae",
   "metadata": {},
   "source": [
    "Genre dataset for recommending movies based on a particular genre"
   ]
  },
  {
   "cell_type": "code",
   "execution_count": 77,
   "id": "a03e1302",
   "metadata": {},
   "outputs": [],
   "source": [
    "genre_db = pd.DataFrame({'movie_id':credits['movie_id'],'name':new_db['title'],'genres':final['genres'],'votes':movies['vote_average']})"
   ]
  },
  {
   "cell_type": "code",
   "execution_count": 78,
   "id": "a585b461",
   "metadata": {},
   "outputs": [
    {
     "data": {
      "text/html": [
       "<div>\n",
       "<style scoped>\n",
       "    .dataframe tbody tr th:only-of-type {\n",
       "        vertical-align: middle;\n",
       "    }\n",
       "\n",
       "    .dataframe tbody tr th {\n",
       "        vertical-align: top;\n",
       "    }\n",
       "\n",
       "    .dataframe thead th {\n",
       "        text-align: right;\n",
       "    }\n",
       "</style>\n",
       "<table border=\"1\" class=\"dataframe\">\n",
       "  <thead>\n",
       "    <tr style=\"text-align: right;\">\n",
       "      <th></th>\n",
       "      <th>movie_id</th>\n",
       "      <th>name</th>\n",
       "      <th>genres</th>\n",
       "      <th>votes</th>\n",
       "    </tr>\n",
       "  </thead>\n",
       "  <tbody>\n",
       "    <tr>\n",
       "      <th>0</th>\n",
       "      <td>19995.0</td>\n",
       "      <td>Avatar</td>\n",
       "      <td>[Action, Adventure, Fantasy, ScienceFiction]</td>\n",
       "      <td>7.2</td>\n",
       "    </tr>\n",
       "    <tr>\n",
       "      <th>1</th>\n",
       "      <td>285.0</td>\n",
       "      <td>Pirates of the Caribbean: At World's End</td>\n",
       "      <td>[Adventure, Fantasy, Action]</td>\n",
       "      <td>6.9</td>\n",
       "    </tr>\n",
       "    <tr>\n",
       "      <th>2</th>\n",
       "      <td>206647.0</td>\n",
       "      <td>Spectre</td>\n",
       "      <td>[Action, Adventure, Crime]</td>\n",
       "      <td>6.3</td>\n",
       "    </tr>\n",
       "    <tr>\n",
       "      <th>3</th>\n",
       "      <td>49026.0</td>\n",
       "      <td>The Dark Knight Rises</td>\n",
       "      <td>[Action, Crime, Drama, Thriller]</td>\n",
       "      <td>7.6</td>\n",
       "    </tr>\n",
       "    <tr>\n",
       "      <th>4</th>\n",
       "      <td>49529.0</td>\n",
       "      <td>John Carter</td>\n",
       "      <td>[Action, Adventure, ScienceFiction]</td>\n",
       "      <td>6.1</td>\n",
       "    </tr>\n",
       "  </tbody>\n",
       "</table>\n",
       "</div>"
      ],
      "text/plain": [
       "   movie_id                                      name  \\\n",
       "0   19995.0                                    Avatar   \n",
       "1     285.0  Pirates of the Caribbean: At World's End   \n",
       "2  206647.0                                   Spectre   \n",
       "3   49026.0                     The Dark Knight Rises   \n",
       "4   49529.0                               John Carter   \n",
       "\n",
       "                                         genres  votes  \n",
       "0  [Action, Adventure, Fantasy, ScienceFiction]    7.2  \n",
       "1                  [Adventure, Fantasy, Action]    6.9  \n",
       "2                    [Action, Adventure, Crime]    6.3  \n",
       "3              [Action, Crime, Drama, Thriller]    7.6  \n",
       "4           [Action, Adventure, ScienceFiction]    6.1  "
      ]
     },
     "execution_count": 78,
     "metadata": {},
     "output_type": "execute_result"
    }
   ],
   "source": [
    "genre_db.head()"
   ]
  },
  {
   "cell_type": "code",
   "execution_count": 79,
   "id": "95008edd",
   "metadata": {},
   "outputs": [],
   "source": [
    "pickle.dump(genre_db,open('genres.pkl','wb'))"
   ]
  },
  {
   "cell_type": "code",
   "execution_count": 80,
   "id": "2d59d4dc",
   "metadata": {},
   "outputs": [],
   "source": [
    "counts = dict()\n",
    "for i in movies.index:\n",
    "   for g in movies.loc[i,'genres'].split(' '):\n",
    "      if g not in counts:\n",
    "         counts[g] = 1\n",
    "      else:\n",
    "         counts[g] = counts[g] + 1"
   ]
  },
  {
   "cell_type": "code",
   "execution_count": 81,
   "id": "5dc39807",
   "metadata": {},
   "outputs": [
    {
     "name": "stdout",
     "output_type": "stream",
     "text": [
      "['Action', 'Adventure', 'Fantasy', 'ScienceFiction']\n",
      "['Adventure', 'Fantasy', 'Action']\n",
      "['Action', 'Adventure', 'Crime']\n",
      "['Action', 'Crime', 'Drama', 'Thriller']\n",
      "['Action', 'Adventure', 'ScienceFiction']\n",
      }
   ],
   "source": [
    "for i in range(genre_db['genres'].count()):\n",
    "     print(genre_db['genres'][i])"
   ]
  },
  {
   "cell_type": "code",
   "execution_count": 82,
   "id": "fc00503a",
   "metadata": {},
   "outputs": [],
   "source": [
    "genre_db.dropna(inplace=True)"
   ]
  },
  {
   "cell_type": "code",
   "execution_count": 83,
   "id": "f7e553a5",
   "metadata": {},
   "outputs": [
    {
     "data": {
      "text/html": [
       "<div>\n",
       "<style scoped>\n",
       "    .dataframe tbody tr th:only-of-type {\n",
       "        vertical-align: middle;\n",
       "    }\n",
       "\n",
       "    .dataframe tbody tr th {\n",
       "        vertical-align: top;\n",
       "    }\n",
       "\n",
       "    .dataframe thead th {\n",
       "        text-align: right;\n",
       "    }\n",
       "</style>\n",
       "<table border=\"1\" class=\"dataframe\">\n",
       "  <thead>\n",
       "    <tr style=\"text-align: right;\">\n",
       "      <th></th>\n",
       "      <th>movie_id</th>\n",
       "      <th>name</th>\n",
       "      <th>genres</th>\n",
       "      <th>votes</th>\n",
       "    </tr>\n",
       "  </thead>\n",
       "  <tbody>\n",
       "    <tr>\n",
       "      <th>0</th>\n",
       "      <td>19995.0</td>\n",
       "      <td>Avatar</td>\n",
       "      <td>[Action, Adventure, Fantasy, ScienceFiction]</td>\n",
       "      <td>7.2</td>\n",
       "    </tr>\n",
       "    <tr>\n",
       "      <th>1</th>\n",
       "      <td>285.0</td>\n",
       "      <td>Pirates of the Caribbean: At World's End</td>\n",
       "      <td>[Adventure, Fantasy, Action]</td>\n",
       "      <td>6.9</td>\n",
       "    </tr>\n",
       "    <tr>\n",
       "      <th>2</th>\n",
       "      <td>206647.0</td>\n",
       "      <td>Spectre</td>\n",
       "      <td>[Action, Adventure, Crime]</td>\n",
       "      <td>6.3</td>\n",
       "    </tr>\n",
       "    <tr>\n",
       "      <th>3</th>\n",
       "      <td>49026.0</td>\n",
       "      <td>The Dark Knight Rises</td>\n",
       "      <td>[Action, Crime, Drama, Thriller]</td>\n",
       "      <td>7.6</td>\n",
       "    </tr>\n",
       "    <tr>\n",
       "      <th>4</th>\n",
       "      <td>49529.0</td>\n",
       "      <td>John Carter</td>\n",
       "      <td>[Action, Adventure, ScienceFiction]</td>\n",
       "      <td>6.1</td>\n",
       "    </tr>\n",
       "  </tbody>\n",
       "</table>\n",
       "</div>"
      ],
      "text/plain": [
       "   movie_id                                      name  \\\n",
       "0   19995.0                                    Avatar   \n",
       "1     285.0  Pirates of the Caribbean: At World's End   \n",
       "2  206647.0                                   Spectre   \n",
       "3   49026.0                     The Dark Knight Rises   \n",
       "4   49529.0                               John Carter   \n",
       "\n",
       "                                         genres  votes  \n",
       "0  [Action, Adventure, Fantasy, ScienceFiction]    7.2  \n",
       "1                  [Adventure, Fantasy, Action]    6.9  \n",
       "2                    [Action, Adventure, Crime]    6.3  \n",
       "3              [Action, Crime, Drama, Thriller]    7.6  \n",
       "4           [Action, Adventure, ScienceFiction]    6.1  "
      ]
     },
     "execution_count": 83,
     "metadata": {},
     "output_type": "execute_result"
    }
   ],
   "source": [
    "genre_db.head()"
   ]
  },
  {
   "cell_type": "code",
   "execution_count": 84,
   "id": "3e238534",
   "metadata": {},
   "outputs": [
    {
     "data": {
      "text/plain": [
       "<AxesSubplot:>"
      ]
     },
     "execution_count": 84,
     "metadata": {},
     "output_type": "execute_result"
    },
    {
     "data": {
      "image/png": "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\n",
      "text/plain": [
       "<Figure size 432x288 with 1 Axes>"
      ]
     },
     "metadata": {
      "needs_background": "light"
     },
     "output_type": "display_data"
    }
   ],
   "source": [
    "genre_db['votes'].hist(bins=50)"
   ]
  },
  {
   "cell_type": "markdown",
   "id": "82910176",
   "metadata": {},
   "source": [
    "Funtion to recommend movies based on genres"
   ]
  },
  {
   "cell_type": "code",
   "execution_count": 85,
   "id": "2258ab98",
   "metadata": {},
   "outputs": [],
   "source": [
    "def recommend_genre(gen):\n",
    "    genre_dict = {}\n",
    "    N = 10\n",
    "    for i in range(genre_db['genres'].count()):\n",
    "        if i in genre_db.index :\n",
    "            if gen in genre_db['genres'][i]:\n",
    "                genre_dict[genre_db['name'][i]] = genre_db['votes'][i]\n",
    "    topN = sorted(genre_dict.items(),key = lambda x: x[1],reverse=True)\n",
    "    for i in range(N):\n",
    "        if i < len(topN):    \n",
    "            print(topN[i][0])\n",
    "        else :\n",
    "            break\n"
   ]
  },
  {
   "cell_type": "code",
   "execution_count": 86,
   "id": "15fc9516",
   "metadata": {},
   "outputs": [
    {
     "data": {
      "text/plain": [
       "list"
      ]
     },
     "execution_count": 86,
     "metadata": {},
     "output_type": "execute_result"
    }
   ],
   "source": [
    "type(genre_db['genres'][0])"
   ]
  },
  {
   "cell_type": "code",
   "execution_count": 87,
   "id": "f1ad2006",
   "metadata": {},
   "outputs": [
    {
     "name": "stdout",
     "output_type": "stream",
     "text": [
      "The Green Mile\n",
      "The Thief and the Cobbler\n",
      "The Lord of the Rings: The Return of the King\n",
      "The Lord of the Rings: The Fellowship of the Ring\n",
      "The Lord of the Rings: The Two Towers\n",
      "Bogus\n",
      "Sliding Doors\n",
      "Special\n",
      "Nanny McPhee\n",
      "Beetlejuice\n"
     ]
    }
   ],
   "source": [
    "recommend_genre('Fantasy')"
   ]
  },
  {
   "cell_type": "code",
   "execution_count": 88,
   "id": "96cea8e6",
   "metadata": {},
   "outputs": [],
   "source": [
    "pickle.dump(genre_db,open('genres.pkl','wb'))"
   ]
  },
  {
   "cell_type": "code",
   "execution_count": 89,
   "id": "8d1cdc17",
   "metadata": {},
   "outputs": [],
   "source": [
    "def recommend_genre(gen):\n",
    "    genre_dict = {}\n",
    "    N = 5\n",
    "    recommended_genre = []\n",
    "    recommended_genre_posters = []\n",
    "\n",
    "    for i in range(genre_db['genres'].count()):\n",
    "        if i in genre_db.index :\n",
    "            if gen in genre_db['genres'][i]:\n",
    "                genre_dict[i] = genre_db['votes'][i]\n",
    "    topN = sorted(genre_dict.items(), key = lambda x: x[1], reverse=True)\n",
    "    for i in range(N):\n",
    "        if i < len(topN):\n",
    "            genre_id = genre_db.iloc[topN[i][0]].movie_id\n",
    "            recommended_genre.append(genre_db['name'][topN[i][0]])\n",
    "            recommended_genre_posters.append(genre_id)\n",
    "        else:\n",
    "            break\n",
    "    return recommended_genre,recommended_genre_posters\n",
    "\n"
   ]
  },
  {
   "cell_type": "code",
   "execution_count": 90,
   "id": "f35e6707",
   "metadata": {},
   "outputs": [
    {
     "data": {
      "text/plain": [
       "(['The Green Mile',\n",
       "  'The Thief and the Cobbler',\n",
       "  'The Lord of the Rings: The Return of the King',\n",
       "  'The Lord of the Rings: The Fellowship of the Ring',\n",
       "  'The Lord of the Rings: The Two Towers'],\n",
       " [497.0, 1891.0, 122.0, 120.0, 121.0])"
      ]
     },
     "execution_count": 90,
     "metadata": {},
     "output_type": "execute_result"
    }
   ],
   "source": [
    "recommend_genre('Fantasy')"
   ]
  },
  {
   "cell_type": "code",
   "execution_count": null,
   "id": "0f00099f",
   "metadata": {},
   "outputs": [],
   "source": []
  }
 ],
 "metadata": {
  "kernelspec": {
   "display_name": "Python 3 (ipykernel)",
   "language": "python",
   "name": "python3"
  },
  "language_info": {
   "codemirror_mode": {
    "name": "ipython",
    "version": 3
   },
   "file_extension": ".py",
   "mimetype": "text/x-python",
   "name": "python",
   "nbconvert_exporter": "python",
   "pygments_lexer": "ipython3",
   "version": "3.10.4"
  }
 },
 "nbformat": 4,
 "nbformat_minor": 5
}
